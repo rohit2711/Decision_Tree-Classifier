{
  "cells": [
    {
      "cell_type": "markdown",
      "metadata": {
        "id": "rea4xm9KhOAR"
      },
      "source": [
        "# Project: Implement Decision Tree Classifier from Scratch"
      ]
    },
    {
      "cell_type": "markdown",
      "metadata": {
        "id": "ORGAFkjqisIA"
      },
      "source": [
        "# Getting Started"
      ]
    },
    {
      "cell_type": "markdown",
      "metadata": {
        "id": "eveGb3FkhT68"
      },
      "source": [
        "## Task 1: Prepare the Environment"
      ]
    },
    {
      "cell_type": "code",
      "execution_count": 91,
      "metadata": {
        "id": "U3gwp8rU8kU8"
      },
      "outputs": [],
      "source": [
        "import numpy as np\n",
        "import  pandas as pd\n",
        "from pprint import pprint\n",
        "from numpy import log2\n",
        "import matplotlib.pyplot as plt\n",
        "import seaborn as sns\n",
        "from sklearn.model_selection import train_test_split\n",
        "from sklearn.metrics import classification_report, confusion_matrix\n"
      ]
    },
    {
      "cell_type": "code",
      "execution_count": 92,
      "metadata": {
        "id": "bxiwGPoCzzWl"
      },
      "outputs": [],
      "source": [
        "df = pd.read_csv('/usercode/heart.csv')"
      ]
    },
    {
      "cell_type": "code",
      "execution_count": 93,
      "metadata": {
        "id": "NWgB4U3cz15-"
      },
      "outputs": [],
      "source": [
        "eps = np.finfo(float).eps\n",
        "target = df.keys()[-1]"
      ]
    },
    {
      "cell_type": "markdown",
      "metadata": {
        "id": "Oo6XaOWWixSg"
      },
      "source": [
        "# The Decision Tree ID 3 Algorithm"
      ]
    },
    {
      "cell_type": "markdown",
      "metadata": {
        "id": "yTN4tAy-hWMY"
      },
      "source": [
        "## Task 2: Calculate the Entropy of a Feature"
      ]
    },
    {
      "cell_type": "code",
      "execution_count": 94,
      "metadata": {
        "id": "hl1JZ3DT8op6"
      },
      "outputs": [],
      "source": [
        "def entropy_of_feature(df,feature):\n",
        "    targets = df[target].unique()\n",
        "    classes  = df[feature].unique()\n",
        "    entropy2 = 0\n",
        "    for feature_class in classes:\n",
        "        entropy = 0\n",
        "        for target_class in targets:\n",
        "            num = len(df[feature][df[feature] == feature_class][df[target]==target_class])\n",
        "            den = len(df[feature][df[feature] == feature_class])\n",
        "            fraction = num/(den+eps)\n",
        "            entropy += -fraction*log2(fraction+eps)\n",
        "            fraction2 = den/len(df)\n",
        "            entropy2 += fraction2*entropy\n",
        "\n",
        "    return entropy2\n"
      ]
    },
    {
      "cell_type": "markdown",
      "metadata": {
        "id": "h4mSMV-6hZKY"
      },
      "source": [
        "## Task 3: Select the Best Feature"
      ]
    },
    {
      "cell_type": "code",
      "execution_count": 95,
      "metadata": {
        "id": "Y-8xk4xu8onC"
      },
      "outputs": [],
      "source": [
        "def best_feature(_df):\n",
        "    IG = []\n",
        "    features = list(set(_df.keys())- set([target]))\n",
        "    for key in features:\n",
        "        IG.append(1-entropy_of_feature(_df,key))\n",
        "    result = features[np.argmax(IG)]\n",
        "    return result"
      ]
    },
    {
      "cell_type": "markdown",
      "metadata": {
        "id": "0v2_uwWShcwA"
      },
      "source": [
        "## Task 4: Retrieve the Sub-table"
      ]
    },
    {
      "cell_type": "code",
      "execution_count": 96,
      "metadata": {
        "id": "28uLnbLG8okc"
      },
      "outputs": [],
      "source": [
        "def get_subtable(_data,node,value):\n",
        "    data = _data.copy()\n",
        "    data = data[data[node] == value][list(set(data.columns)-set([node]))]\n",
        "    return data.reset_index(drop=True)"
      ]
    },
    {
      "cell_type": "markdown",
      "metadata": {
        "id": "RSTtIIvDhgFu"
      },
      "source": [
        "## Task 5: Build the Decision Tree"
      ]
    },
    {
      "cell_type": "code",
      "execution_count": 97,
      "metadata": {
        "id": "DGHWs8lp8ohz"
      },
      "outputs": [],
      "source": [
        "def build_tree(_df,tree=None):\n",
        "\n",
        "    node = best_feature(_df)\n",
        "\n",
        "    nodeClasses = np.unique(_df[node])\n",
        "\n",
        "    if tree is None:\n",
        "        tree={}\n",
        "        tree[node] = {}\n",
        "\n",
        "    for nodeClass in nodeClasses:\n",
        "\n",
        "        subtable = get_subtable(_df.copy(),node,nodeClass)\n",
        "        clValue,counts = np.unique(subtable[target],return_counts=True)\n",
        "\n",
        "        if len(counts)==1:\n",
        "            return clValue[0]\n",
        "        elif len(subtable)==0:\n",
        "            return 1\n",
        "        elif len(subtable.keys())==1:\n",
        "            return 1\n",
        "        else:\n",
        "            tree[node][nodeClass] = build_tree(subtable)\n",
        "\n",
        "    return tree\n",
        "    "
      ]
    },
    {
      "cell_type": "markdown",
      "metadata": {
        "id": "OifFuSLChpOm"
      },
      "source": [
        "## Task 6: Generate Predictions"
      ]
    },
    {
      "cell_type": "code",
      "execution_count": 98,
      "metadata": {
        "id": "PrqqsSnssvvJ"
      },
      "outputs": [],
      "source": [
        "def predict(tree,df):\n",
        "    results = []\n",
        "    for _, row in df.iterrows():\n",
        "        res = classify(tree.copy(),row)\n",
        "        results.append(res)\n",
        "    return results"
      ]
    },
    {
      "cell_type": "code",
      "execution_count": 99,
      "metadata": {
        "id": "-DbxaxSdvX6t"
      },
      "outputs": [],
      "source": [
        "def classify(tree,row):\n",
        "    feat = list(tree.keys())[0]\n",
        "    if isinstance(tree[feat][row[feat]],dict):\n",
        "        if row[feat] in tree[feat].keys():\n",
        "            return classify(tree[feat][row[feat]].copy(),row)\n",
        "        else:\n",
        "            print('Unknown feature '+str(row[feat])+' in '+str(tree[feat].keys()))\n",
        "    else:\n",
        "        return tree[feat][row[feat]]"
      ]
    },
    {
      "cell_type": "markdown",
      "metadata": {
        "id": "bdiJR7fgi6I2"
      },
      "source": [
        "# Preprocess the Data"
      ]
    },
    {
      "cell_type": "markdown",
      "metadata": {
        "id": "HR9iKrs-hk13"
      },
      "source": [
        "## Task 7: Compute Information Gain of a Feature"
      ]
    },
    {
      "cell_type": "code",
      "execution_count": 100,
      "metadata": {
        "id": "HHNT2i4YM3eA"
      },
      "outputs": [],
      "source": [
        "def find_gain(df,threshold,attr):\n",
        "    idx = df[df[attr] <= threshold].index\n",
        "    tmp_df = df.copy()\n",
        "    tmp_df[attr] = '>'+str(threshold)\n",
        "    tmp_df.loc[idx,attr] = '<='+str(threshold)\n",
        "\n",
        "    return 1-entropy_of_feature(tmp_df,attr)"
      ]
    },
    {
      "cell_type": "markdown",
      "metadata": {
        "id": "dmcKs0Rphmwo"
      },
      "source": [
        "## Task 8: Convert Continuous Feature to Binary"
      ]
    },
    {
      "cell_type": "code",
      "execution_count": 101,
      "metadata": {
        "id": "572kb-IlQRgQ"
      },
      "outputs": [],
      "source": [
        "def cont_2_binary(df, cont=None):\n",
        "    df = df.copy()\n",
        "    thresholds = {}\n",
        "    cont_cols = cont if cont else df._get_numeric_data().columns[:-1]\n",
        "    for col in cont_cols:\n",
        "        IG = []\n",
        "        unique = sorted(df[col].unique())\n",
        "\n",
        "        for uni in unique:\n",
        "            IG.append(find_gain(df,uni,col))\n",
        "        thresholds[col] = unique[np.argmax(IG)]\n",
        "        idx = df[df[col] <= thresholds[col]].index\n",
        "\n",
        "        df[col] = '>'+str(thresholds[col])\n",
        "\n",
        "        df.loc[idx,col] = '<='+str(thresholds[col])\n",
        "    \n",
        "    return df"
      ]
    },
    {
      "cell_type": "markdown",
      "metadata": {
        "id": "Bv-bqIquhtLq"
      },
      "source": [
        "## Task 9: Preprocess the Data"
      ]
    },
    {
      "cell_type": "code",
      "execution_count": 102,
      "metadata": {
        "colab": {
          "base_uri": "https://localhost:8080/",
          "height": 270
        },
        "id": "tC03QZrk_GCd",
        "outputId": "4e6c9d10-b84c-4e0a-89a2-f5586743e8a2"
      },
      "outputs": [
        {
          "data": {
            "text/html": [
              "<div>\n",
              "<style scoped>\n",
              "    .dataframe tbody tr th:only-of-type {\n",
              "        vertical-align: middle;\n",
              "    }\n",
              "\n",
              "    .dataframe tbody tr th {\n",
              "        vertical-align: top;\n",
              "    }\n",
              "\n",
              "    .dataframe thead th {\n",
              "        text-align: right;\n",
              "    }\n",
              "</style>\n",
              "<table border=\"1\" class=\"dataframe\">\n",
              "  <thead>\n",
              "    <tr style=\"text-align: right;\">\n",
              "      <th></th>\n",
              "      <th>Age</th>\n",
              "      <th>Sex</th>\n",
              "      <th>ChestPainType</th>\n",
              "      <th>RestingBP</th>\n",
              "      <th>Cholesterol</th>\n",
              "      <th>FastingBS</th>\n",
              "      <th>RestingECG</th>\n",
              "      <th>MaxHR</th>\n",
              "      <th>ExerciseAngina</th>\n",
              "      <th>Oldpeak</th>\n",
              "      <th>ST_Slope</th>\n",
              "      <th>HeartDisease</th>\n",
              "    </tr>\n",
              "  </thead>\n",
              "  <tbody>\n",
              "    <tr>\n",
              "      <th>712</th>\n",
              "      <td>&lt;=54</td>\n",
              "      <td>F</td>\n",
              "      <td>NAP</td>\n",
              "      <td>&lt;=140</td>\n",
              "      <td>&gt;0</td>\n",
              "      <td>&lt;=0</td>\n",
              "      <td>Normal</td>\n",
              "      <td>&lt;=132</td>\n",
              "      <td>N</td>\n",
              "      <td>&lt;=0.8</td>\n",
              "      <td>Up</td>\n",
              "      <td>0</td>\n",
              "    </tr>\n",
              "    <tr>\n",
              "      <th>477</th>\n",
              "      <td>&lt;=54</td>\n",
              "      <td>M</td>\n",
              "      <td>ASY</td>\n",
              "      <td>&lt;=140</td>\n",
              "      <td>&gt;0</td>\n",
              "      <td>&lt;=0</td>\n",
              "      <td>Normal</td>\n",
              "      <td>&lt;=132</td>\n",
              "      <td>Y</td>\n",
              "      <td>&gt;0.8</td>\n",
              "      <td>Flat</td>\n",
              "      <td>1</td>\n",
              "    </tr>\n",
              "    <tr>\n",
              "      <th>409</th>\n",
              "      <td>&lt;=54</td>\n",
              "      <td>F</td>\n",
              "      <td>ATA</td>\n",
              "      <td>&lt;=140</td>\n",
              "      <td>&gt;0</td>\n",
              "      <td>&lt;=0</td>\n",
              "      <td>Normal</td>\n",
              "      <td>&gt;132</td>\n",
              "      <td>N</td>\n",
              "      <td>&lt;=0.8</td>\n",
              "      <td>Up</td>\n",
              "      <td>0</td>\n",
              "    </tr>\n",
              "    <tr>\n",
              "      <th>448</th>\n",
              "      <td>&gt;54</td>\n",
              "      <td>M</td>\n",
              "      <td>ASY</td>\n",
              "      <td>&lt;=140</td>\n",
              "      <td>&gt;0</td>\n",
              "      <td>&lt;=0</td>\n",
              "      <td>Normal</td>\n",
              "      <td>&lt;=132</td>\n",
              "      <td>N</td>\n",
              "      <td>&gt;0.8</td>\n",
              "      <td>Flat</td>\n",
              "      <td>1</td>\n",
              "    </tr>\n",
              "    <tr>\n",
              "      <th>838</th>\n",
              "      <td>&lt;=54</td>\n",
              "      <td>M</td>\n",
              "      <td>NAP</td>\n",
              "      <td>&lt;=140</td>\n",
              "      <td>&lt;=0</td>\n",
              "      <td>&lt;=0</td>\n",
              "      <td>ST</td>\n",
              "      <td>&gt;132</td>\n",
              "      <td>N</td>\n",
              "      <td>&gt;0.8</td>\n",
              "      <td>Up</td>\n",
              "      <td>1</td>\n",
              "    </tr>\n",
              "  </tbody>\n",
              "</table>\n",
              "</div>"
            ],
            "text/plain": [
              "      Age Sex ChestPainType RestingBP Cholesterol FastingBS RestingECG  MaxHR  \\\n",
              "712  <=54   F           NAP     <=140          >0       <=0     Normal  <=132   \n",
              "477  <=54   M           ASY     <=140          >0       <=0     Normal  <=132   \n",
              "409  <=54   F           ATA     <=140          >0       <=0     Normal   >132   \n",
              "448   >54   M           ASY     <=140          >0       <=0     Normal  <=132   \n",
              "838  <=54   M           NAP     <=140         <=0       <=0         ST   >132   \n",
              "\n",
              "    ExerciseAngina Oldpeak ST_Slope  HeartDisease  \n",
              "712              N   <=0.8       Up             0  \n",
              "477              Y    >0.8     Flat             1  \n",
              "409              N   <=0.8       Up             0  \n",
              "448              N    >0.8     Flat             1  \n",
              "838              N    >0.8       Up             1  "
            ]
          },
          "execution_count": 102,
          "metadata": {},
          "output_type": "execute_result"
        }
      ],
      "source": [
        "df = cont_2_binary(df)\n",
        "df_train, df_test = train_test_split(df.sample(frac=1, random_state=1337).reset_index(drop=True), random_state=42, test_size=0.3)\n",
        "\n",
        "df_train.head()"
      ]
    },
    {
      "cell_type": "markdown",
      "metadata": {
        "id": "BjObO4pHjQGK"
      },
      "source": [
        "# Train, Predict, and Evaluate the Model"
      ]
    },
    {
      "cell_type": "markdown",
      "metadata": {
        "id": "Jo7ItExihvx7"
      },
      "source": [
        "## Task 10: Train the Model and Make Predictions"
      ]
    },
    {
      "cell_type": "code",
      "execution_count": 103,
      "metadata": {
        "id": "OwfP2nRotlCl"
      },
      "outputs": [],
      "source": [
        "tree = build_tree(df_train)"
      ]
    },
    {
      "cell_type": "code",
      "execution_count": 104,
      "metadata": {
        "colab": {
          "base_uri": "https://localhost:8080/"
        },
        "id": "n-8aUuU-tviP",
        "outputId": "4c8eedf3-b488-48d0-bd17-e9f60683d235"
      },
      "outputs": [
        {
          "name": "stdout",
          "output_type": "stream",
          "text": [
            "{'ST_Slope': {'Down': {'ExerciseAngina': {'N': 0, 'Y': 1}},\n",
            "              'Flat': {'ChestPainType': {'ASY': {'Sex': {'F': {'RestingBP': {'<=140': {'ExerciseAngina': {'N': 0,\n",
            "                                                                                                          'Y': 1}},\n",
            "                                                                             '>140': 1}},\n",
            "                                                         'M': 1}},\n",
            "                                         'ATA': {'ExerciseAngina': {'N': 0,\n",
            "                                                                    'Y': 1}},\n",
            "                                         'NAP': {'Sex': {'F': 0,\n",
            "                                                         'M': {'MaxHR': {'<=132': 1,\n",
            "                                                                         '>132': {'ExerciseAngina': {'N': {'RestingECG': {'LVH': 0,\n",
            "                                                                                                                          'Normal': 1,\n",
            "                                                                                                                          'ST': 0}},\n",
            "                                                                                                     'Y': 0}}}}}},\n",
            "                                         'TA': 1}},\n",
            "              'Up': {'ChestPainType': {'ASY': {'Cholesterol': {'<=0': 1,\n",
            "                                                               '>0': {'ExerciseAngina': {'N': 0,\n",
            "                                                                                         'Y': 1}}}},\n",
            "                                       'ATA': 0,\n",
            "                                       'NAP': {'Cholesterol': {'<=0': 1,\n",
            "                                                               '>0': 0}},\n",
            "                                       'TA': 0}}}}\n"
          ]
        }
      ],
      "source": [
        "pprint(tree)"
      ]
    },
    {
      "cell_type": "code",
      "execution_count": 105,
      "metadata": {
        "id": "eYhd1oCZygij"
      },
      "outputs": [
        {
          "data": {
            "text/html": [
              "<div>\n",
              "<style scoped>\n",
              "    .dataframe tbody tr th:only-of-type {\n",
              "        vertical-align: middle;\n",
              "    }\n",
              "\n",
              "    .dataframe tbody tr th {\n",
              "        vertical-align: top;\n",
              "    }\n",
              "\n",
              "    .dataframe thead th {\n",
              "        text-align: right;\n",
              "    }\n",
              "</style>\n",
              "<table border=\"1\" class=\"dataframe\">\n",
              "  <thead>\n",
              "    <tr style=\"text-align: right;\">\n",
              "      <th></th>\n",
              "      <th>Age</th>\n",
              "      <th>Sex</th>\n",
              "      <th>ChestPainType</th>\n",
              "      <th>RestingBP</th>\n",
              "      <th>Cholesterol</th>\n",
              "      <th>FastingBS</th>\n",
              "      <th>RestingECG</th>\n",
              "      <th>MaxHR</th>\n",
              "      <th>ExerciseAngina</th>\n",
              "      <th>Oldpeak</th>\n",
              "      <th>ST_Slope</th>\n",
              "      <th>HeartDisease</th>\n",
              "      <th>pred</th>\n",
              "    </tr>\n",
              "  </thead>\n",
              "  <tbody>\n",
              "    <tr>\n",
              "      <th>668</th>\n",
              "      <td>&gt;54</td>\n",
              "      <td>M</td>\n",
              "      <td>ATA</td>\n",
              "      <td>&gt;140</td>\n",
              "      <td>&gt;0</td>\n",
              "      <td>&lt;=0</td>\n",
              "      <td>Normal</td>\n",
              "      <td>&gt;132</td>\n",
              "      <td>N</td>\n",
              "      <td>&lt;=0.8</td>\n",
              "      <td>Up</td>\n",
              "      <td>0</td>\n",
              "      <td>0</td>\n",
              "    </tr>\n",
              "    <tr>\n",
              "      <th>30</th>\n",
              "      <td>&gt;54</td>\n",
              "      <td>M</td>\n",
              "      <td>ASY</td>\n",
              "      <td>&lt;=140</td>\n",
              "      <td>&gt;0</td>\n",
              "      <td>&lt;=0</td>\n",
              "      <td>Normal</td>\n",
              "      <td>&lt;=132</td>\n",
              "      <td>Y</td>\n",
              "      <td>&gt;0.8</td>\n",
              "      <td>Down</td>\n",
              "      <td>1</td>\n",
              "      <td>1</td>\n",
              "    </tr>\n",
              "    <tr>\n",
              "      <th>377</th>\n",
              "      <td>&lt;=54</td>\n",
              "      <td>F</td>\n",
              "      <td>ATA</td>\n",
              "      <td>&lt;=140</td>\n",
              "      <td>&gt;0</td>\n",
              "      <td>&lt;=0</td>\n",
              "      <td>Normal</td>\n",
              "      <td>&gt;132</td>\n",
              "      <td>N</td>\n",
              "      <td>&lt;=0.8</td>\n",
              "      <td>Up</td>\n",
              "      <td>0</td>\n",
              "      <td>0</td>\n",
              "    </tr>\n",
              "    <tr>\n",
              "      <th>535</th>\n",
              "      <td>&gt;54</td>\n",
              "      <td>M</td>\n",
              "      <td>ASY</td>\n",
              "      <td>&gt;140</td>\n",
              "      <td>&lt;=0</td>\n",
              "      <td>&gt;0</td>\n",
              "      <td>ST</td>\n",
              "      <td>&lt;=132</td>\n",
              "      <td>N</td>\n",
              "      <td>&lt;=0.8</td>\n",
              "      <td>Flat</td>\n",
              "      <td>1</td>\n",
              "      <td>1</td>\n",
              "    </tr>\n",
              "    <tr>\n",
              "      <th>807</th>\n",
              "      <td>&gt;54</td>\n",
              "      <td>F</td>\n",
              "      <td>ASY</td>\n",
              "      <td>&lt;=140</td>\n",
              "      <td>&lt;=0</td>\n",
              "      <td>&gt;0</td>\n",
              "      <td>Normal</td>\n",
              "      <td>&gt;132</td>\n",
              "      <td>N</td>\n",
              "      <td>&gt;0.8</td>\n",
              "      <td>Down</td>\n",
              "      <td>1</td>\n",
              "      <td>0</td>\n",
              "    </tr>\n",
              "    <tr>\n",
              "      <th>793</th>\n",
              "      <td>&lt;=54</td>\n",
              "      <td>M</td>\n",
              "      <td>NAP</td>\n",
              "      <td>&lt;=140</td>\n",
              "      <td>&gt;0</td>\n",
              "      <td>&lt;=0</td>\n",
              "      <td>Normal</td>\n",
              "      <td>&lt;=132</td>\n",
              "      <td>Y</td>\n",
              "      <td>&gt;0.8</td>\n",
              "      <td>Flat</td>\n",
              "      <td>1</td>\n",
              "      <td>1</td>\n",
              "    </tr>\n",
              "    <tr>\n",
              "      <th>363</th>\n",
              "      <td>&gt;54</td>\n",
              "      <td>M</td>\n",
              "      <td>ASY</td>\n",
              "      <td>&lt;=140</td>\n",
              "      <td>&lt;=0</td>\n",
              "      <td>&gt;0</td>\n",
              "      <td>Normal</td>\n",
              "      <td>&lt;=132</td>\n",
              "      <td>Y</td>\n",
              "      <td>&gt;0.8</td>\n",
              "      <td>Up</td>\n",
              "      <td>1</td>\n",
              "      <td>1</td>\n",
              "    </tr>\n",
              "    <tr>\n",
              "      <th>583</th>\n",
              "      <td>&lt;=54</td>\n",
              "      <td>F</td>\n",
              "      <td>ATA</td>\n",
              "      <td>&lt;=140</td>\n",
              "      <td>&gt;0</td>\n",
              "      <td>&lt;=0</td>\n",
              "      <td>ST</td>\n",
              "      <td>&gt;132</td>\n",
              "      <td>N</td>\n",
              "      <td>&lt;=0.8</td>\n",
              "      <td>Up</td>\n",
              "      <td>0</td>\n",
              "      <td>0</td>\n",
              "    </tr>\n",
              "    <tr>\n",
              "      <th>165</th>\n",
              "      <td>&gt;54</td>\n",
              "      <td>M</td>\n",
              "      <td>ASY</td>\n",
              "      <td>&lt;=140</td>\n",
              "      <td>&gt;0</td>\n",
              "      <td>&lt;=0</td>\n",
              "      <td>ST</td>\n",
              "      <td>&gt;132</td>\n",
              "      <td>Y</td>\n",
              "      <td>&gt;0.8</td>\n",
              "      <td>Flat</td>\n",
              "      <td>1</td>\n",
              "      <td>1</td>\n",
              "    </tr>\n",
              "    <tr>\n",
              "      <th>483</th>\n",
              "      <td>&gt;54</td>\n",
              "      <td>M</td>\n",
              "      <td>NAP</td>\n",
              "      <td>&gt;140</td>\n",
              "      <td>&lt;=0</td>\n",
              "      <td>&lt;=0</td>\n",
              "      <td>Normal</td>\n",
              "      <td>&lt;=132</td>\n",
              "      <td>Y</td>\n",
              "      <td>&lt;=0.8</td>\n",
              "      <td>Flat</td>\n",
              "      <td>1</td>\n",
              "      <td>1</td>\n",
              "    </tr>\n",
              "  </tbody>\n",
              "</table>\n",
              "</div>"
            ],
            "text/plain": [
              "      Age Sex ChestPainType RestingBP Cholesterol FastingBS RestingECG  MaxHR  \\\n",
              "668   >54   M           ATA      >140          >0       <=0     Normal   >132   \n",
              "30    >54   M           ASY     <=140          >0       <=0     Normal  <=132   \n",
              "377  <=54   F           ATA     <=140          >0       <=0     Normal   >132   \n",
              "535   >54   M           ASY      >140         <=0        >0         ST  <=132   \n",
              "807   >54   F           ASY     <=140         <=0        >0     Normal   >132   \n",
              "793  <=54   M           NAP     <=140          >0       <=0     Normal  <=132   \n",
              "363   >54   M           ASY     <=140         <=0        >0     Normal  <=132   \n",
              "583  <=54   F           ATA     <=140          >0       <=0         ST   >132   \n",
              "165   >54   M           ASY     <=140          >0       <=0         ST   >132   \n",
              "483   >54   M           NAP      >140         <=0       <=0     Normal  <=132   \n",
              "\n",
              "    ExerciseAngina Oldpeak ST_Slope  HeartDisease  pred  \n",
              "668              N   <=0.8       Up             0     0  \n",
              "30               Y    >0.8     Down             1     1  \n",
              "377              N   <=0.8       Up             0     0  \n",
              "535              N   <=0.8     Flat             1     1  \n",
              "807              N    >0.8     Down             1     0  \n",
              "793              Y    >0.8     Flat             1     1  \n",
              "363              Y    >0.8       Up             1     1  \n",
              "583              N   <=0.8       Up             0     0  \n",
              "165              Y    >0.8     Flat             1     1  \n",
              "483              Y   <=0.8     Flat             1     1  "
            ]
          },
          "execution_count": 105,
          "metadata": {},
          "output_type": "execute_result"
        }
      ],
      "source": [
        "results = predict(tree.copy(), df_test.iloc[:, :-1])\n",
        "df_test['pred'] = results\n",
        "df_test.head(10)"
      ]
    },
    {
      "cell_type": "markdown",
      "metadata": {
        "id": "oAwg474Ce9sf"
      },
      "source": [
        "## Task 11: Display the Confusion Matrix"
      ]
    },
    {
      "cell_type": "code",
      "execution_count": 106,
      "metadata": {
        "colab": {
          "base_uri": "https://localhost:8080/",
          "height": 328
        },
        "id": "r-Z4aVVbe9Wo",
        "outputId": "82c8bda4-2747-47bd-c38f-75836111d000"
      },
      "outputs": [
        {
          "data": {
            "text/plain": [
              "Text(20.72222222222222, 0.5, 'True')"
            ]
          },
          "execution_count": 106,
          "metadata": {},
          "output_type": "execute_result"
        },
        {
          "data": {
            "image/png": "[encoded data removed]",
            "text/plain": [
              "<Figure size 400x300 with 2 Axes>"
            ]
          },
          "metadata": {},
          "output_type": "display_data"
        }
      ],
      "source": [
        "cm = confusion_matrix(df_test.loc[:, 'HeartDisease'], results)\n",
        "\n",
        "plt.figure(figsize=(4,3))\n",
        "sns.heatmap(cm, annot=True, fmt='g', cmap='Blues')\n",
        "plt.xlabel('Predicted')\n",
        "plt.ylabel('True')"
      ]
    },
    {
      "cell_type": "markdown",
      "metadata": {
        "id": "BCAyyovqh0dI"
      },
      "source": [
        "## Task 12: Compute Evaluation Metrics"
      ]
    },
    {
      "cell_type": "code",
      "execution_count": 107,
      "metadata": {
        "colab": {
          "base_uri": "https://localhost:8080/"
        },
        "id": "vpd11o-Oy27S",
        "outputId": "ea287b91-0f31-4579-b354-bd751c087c83"
      },
      "outputs": [
        {
          "name": "stdout",
          "output_type": "stream",
          "text": [
            "              precision    recall  f1-score   support\n",
            "\n",
            "  No Disease       0.82      0.82      0.82       110\n",
            "     Disease       0.88      0.88      0.88       166\n",
            "\n",
            "    accuracy                           0.86       276\n",
            "   macro avg       0.85      0.85      0.85       276\n",
            "weighted avg       0.86      0.86      0.86       276\n",
            "\n"
          ]
        }
      ],
      "source": [
        "target_names = ['No Disease', 'Disease']\n",
        "print(classification_report(df_test.loc[:, 'HeartDisease'], results, target_names=target_names))"
      ]
    },
    {
      "cell_type": "markdown",
      "metadata": {
        "id": "rK1JSBN0iAK9"
      },
      "source": [
        "# End"
      ]
    }
  ],
  "metadata": {
    "colab": {
      "provenance": []
    },
    "kernelspec": {
      "display_name": "Python 3",
      "language": "python",
      "name": "python3"
    },
    "language_info": {
      "codemirror_mode": {
        "name": "ipython",
        "version": 3
      },
      "file_extension": ".py",
      "mimetype": "text/x-python",
      "name": "python",
      "nbconvert_exporter": "python",
      "pygments_lexer": "ipython3",
      "version": "3.8.10"
    },
    "vscode": {
      "interpreter": {
        "hash": "e7370f93d1d0cde622a1f8e1c04877d8463912d04d973331ad4851f04de6915a"
      }
    }
  },
  "nbformat": 4,
  "nbformat_minor": 0
}
